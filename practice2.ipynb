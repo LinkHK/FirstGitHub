{
 "cells": [
  {
   "cell_type": "code",
   "execution_count": 3,
   "metadata": {},
   "outputs": [
    {
     "name": "stdout",
     "output_type": "stream",
     "text": [
      "1\n",
      "3\n",
      "5\n",
      "7\n",
      "9\n",
      "11\n",
      "13\n",
      "15\n",
      "17\n",
      "19\n",
      "21\n",
      "23\n",
      "25\n",
      "27\n",
      "29\n",
      "31\n",
      "33\n",
      "35\n",
      "37\n",
      "39\n",
      "41\n",
      "43\n",
      "45\n",
      "47\n",
      "49\n",
      "51\n",
      "53\n",
      "55\n",
      "57\n",
      "59\n",
      "61\n",
      "63\n",
      "65\n",
      "67\n",
      "69\n",
      "71\n",
      "73\n",
      "75\n",
      "77\n",
      "79\n",
      "81\n",
      "83\n",
      "85\n",
      "87\n",
      "89\n",
      "91\n",
      "93\n",
      "95\n",
      "97\n",
      "99\n"
     ]
    }
   ],
   "source": [
    "# 打印 1到 100 以内的奇数\n",
    "ls = range(1,101)\n",
    "\n",
    "for i in ls:\n",
    "    if i % 2 == 1:\n",
    "        print(i)"
   ]
  },
  {
   "cell_type": "markdown",
   "metadata": {},
   "source": [
    "# 有一个长阶梯，每步上2个台阶，最后剩下一个台阶，每步上3个台阶，最后剩下2个台阶，每步上5个台阶，最后剩下4个台阶，每步上6个台阶，最后剩下5个台阶,每步上7个台阶，最后没有剩下的台阶\n"
   ]
  },
  {
   "cell_type": "code",
   "execution_count": 2,
   "metadata": {},
   "outputs": [
    {
     "name": "stdout",
     "output_type": "stream",
     "text": [
      "119\n",
      "329\n",
      "539\n",
      "749\n",
      "959\n",
      "循环结束\n"
     ]
    }
   ],
   "source": [
    "# 编写程序求取上述的楼梯最少有多少个台阶\n",
    "x = 0\n",
    "while x < 1000:\n",
    "    if x % 2 == 1 and x % 3 == 2 and x % 5 == 4 and x % 6 == 5 and x % 7 == 0:\n",
    "        print(x)\n",
    "#        break\n",
    "        x +=1\n",
    "    else:\n",
    "        x +=1\n",
    "        \n",
    "print(\"循环结束\")"
   ]
  },
  {
   "cell_type": "markdown",
   "metadata": {},
   "source": [
    "# 设计一个小程序，让用户输入三次密码，检验是否正确，当输入'*'提示重新输入"
   ]
  },
  {
   "cell_type": "code",
   "execution_count": 2,
   "metadata": {},
   "outputs": [
    {
     "name": "stdout",
     "output_type": "stream",
     "text": [
      "请输入密码：*78\n",
      "请重新输入\n",
      "请输入密码：15a\n",
      "输入错误\n",
      "请输入密码：asd123\n",
      "输入正确\n"
     ]
    }
   ],
   "source": [
    "password = \"asd123\"\n",
    "times = 3\n",
    "while times:\n",
    "    times -= 1\n",
    "    password_input = input(\"请输入密码：\")\n",
    "    if '*' in password_input:\n",
    "        print(\"请重新输入\")\n",
    "    elif password_input == password:\n",
    "        print(\"输入正确\")\n",
    "        break\n",
    "    else:\n",
    "        print(\"输入错误\")"
   ]
  },
  {
   "cell_type": "markdown",
   "metadata": {},
   "source": [
    "# 求100~999之间的水仙花数，水仙花数是指 一个三位数等于各位置上的数的立方和\n",
    "- 153 = 1**3 + 5**3 + 3**3"
   ]
  },
  {
   "cell_type": "code",
   "execution_count": 6,
   "metadata": {},
   "outputs": [
    {
     "name": "stdout",
     "output_type": "stream",
     "text": [
      "153\n",
      "370\n",
      "371\n",
      "407\n"
     ]
    }
   ],
   "source": [
    "for i in range(100,1000):\n",
    "    temp = list(str(i))\n",
    "    a = int(temp[0])\n",
    "    b = int(temp[1])\n",
    "    c = int(temp[2])\n",
    "    if a**3 + b**3 + c**3 == i:\n",
    "        print(i)"
   ]
  },
  {
   "cell_type": "markdown",
   "metadata": {},
   "source": [
    "# 有红黄蓝三种颜色的球，红3 黄3 绿8 ，抽取6个球，求出所有的情况"
   ]
  },
  {
   "cell_type": "code",
   "execution_count": 8,
   "metadata": {},
   "outputs": [
    {
     "name": "stdout",
     "output_type": "stream",
     "text": [
      "红球个数：0\n",
      "黄球个数：0\n",
      "绿球个数：6\n",
      "********************\n",
      "红球个数：0\n",
      "黄球个数：1\n",
      "绿球个数：5\n",
      "********************\n",
      "红球个数：0\n",
      "黄球个数：2\n",
      "绿球个数：4\n",
      "********************\n",
      "红球个数：1\n",
      "黄球个数：0\n",
      "绿球个数：5\n",
      "********************\n",
      "红球个数：1\n",
      "黄球个数：1\n",
      "绿球个数：4\n",
      "********************\n",
      "红球个数：1\n",
      "黄球个数：2\n",
      "绿球个数：3\n",
      "********************\n",
      "红球个数：2\n",
      "黄球个数：0\n",
      "绿球个数：4\n",
      "********************\n",
      "红球个数：2\n",
      "黄球个数：1\n",
      "绿球个数：3\n",
      "********************\n",
      "红球个数：2\n",
      "黄球个数：2\n",
      "绿球个数：2\n",
      "********************\n"
     ]
    }
   ],
   "source": [
    "for red in range(3):\n",
    "    for yellow in range(3):\n",
    "        for green in range(2,7):#绿颜色的球最少抽取2个 最多可以全部 抽取\n",
    "            if red + yellow + green == 6:\n",
    "                print(\"红球个数：{0}\".format(red))\n",
    "                print(\"黄球个数：{0}\".format(yellow))\n",
    "                print(\"绿球个数：{0}\".format(green))\n",
    "        print(\"*\"*20)\n",
    "        "
   ]
  },
  {
   "cell_type": "code",
   "execution_count": 14,
   "metadata": {},
   "outputs": [
    {
     "name": "stdout",
     "output_type": "stream",
     "text": [
      "[1, 2, 3, 4, 5, [6, 7, 8]]\n",
      "[1, 2, 3, 4, 5, 6]\n",
      "[1, 2, 3, 4, 5, 6, 7, 8]\n",
      "[1, 2, 3, 10, 4, 5]\n"
     ]
    }
   ],
   "source": [
    "a = [1,2,3,4,5]\n",
    "a.append([6,7,8])\n",
    "print(a)\n",
    "\n",
    "b = [1,2,3,4,5]\n",
    "b.append(6)\n",
    "print(b)\n",
    "\n",
    "c = [1,2,3,4,5]\n",
    "c.extend([6,7,8])\n",
    "print(c)\n",
    "\n",
    "d = [1,2,3,4,5]\n",
    "d.insert(3,10)\n",
    "print(d)"
   ]
  },
  {
   "cell_type": "markdown",
   "metadata": {},
   "source": [
    "### 写一个系统用来管理用于登陆系统的用户信息，登陆账户建立后，已存在的用户可以可以用已有的账户登陆系统，新用户不能用别人的用户名建立新账户"
   ]
  },
  {
   "cell_type": "code",
   "execution_count": 31,
   "metadata": {},
   "outputs": [
    {
     "name": "stdout",
     "output_type": "stream",
     "text": [
      "恭喜你登陆成功！\n",
      "你的密码错误！\n",
      "恭喜你注册成功\n",
      "{'xiaoming': '123', 'xiaohong': '456', 'xiaogang': '123'}\n"
     ]
    }
   ],
   "source": [
    "# 模拟已经存在的用户\n",
    "users = {\"xiaoming\":\"123\",\"xiaohong\":\"456\"}\n",
    "user = users.keys()\n",
    "def sys(user_name,user_password):\n",
    "    if user_name in user:\n",
    "        if user_password == users[user_name]:\n",
    "            print(\"恭喜你登陆成功！\")\n",
    "        else:\n",
    "            print(\"你的密码错误！\")\n",
    "    else:\n",
    "        users[user_name] = user_password\n",
    "        print(\"恭喜你注册成功\")\n",
    "        \n",
    "sys(\"xiaoming\",\"123\")\n",
    "sys(\"xiaoming\",\"234\")\n",
    "sys(\"xiaogang\",\"123\")\n",
    "print(users)"
   ]
  },
  {
   "cell_type": "code",
   "execution_count": 35,
   "metadata": {},
   "outputs": [
    {
     "name": "stdout",
     "output_type": "stream",
     "text": [
      "xiaoming\n",
      "18\n",
      "88\n"
     ]
    }
   ],
   "source": [
    "# 定义一个学生类，返回他的 名字，年龄，科目最大分数\n",
    "class student(object):\n",
    "    def __init__(self,name,age,scores):\n",
    "        self.name = name\n",
    "        self.age = age\n",
    "        self.scores = scores\n",
    "        \n",
    "    def get_name(self):\n",
    "        return self.name\n",
    "    \n",
    "    def get_age(self):\n",
    "        return self.age\n",
    "    \n",
    "    def get_scores(self):\n",
    "        return max(self.scores)\n",
    "    \n",
    "a = student(\"xiaoming\",18,[66,77,88])\n",
    "print(a.get_name())\n",
    "print(a.get_age())\n",
    "print(a.get_scores())\n",
    "\n",
    "    \n"
   ]
  },
  {
   "cell_type": "markdown",
   "metadata": {},
   "source": [
    "\n",
    "# 定义一个字典类：DictClass，完成如下功能\n",
    "- 删除某个key del_dict(key)\n",
    "- 判断某个键是否在字典里，如果在返回键对应的值，不在则返回‘not found' get_dict()\n",
    "- 返回键组成的列表 返回类型：list get_key()\n",
    "- 合并字典，并且返回合并后字典的values组成的列表，返回类型list update_dict()"
   ]
  },
  {
   "cell_type": "code",
   "execution_count": 23,
   "metadata": {},
   "outputs": [
    {
     "name": "stdout",
     "output_type": "stream",
     "text": [
      "未找到\n",
      "{'one': 1, 'two': 2}\n",
      "找到了\n",
      "1\n",
      "{'one': 1, 'two': 2}\n",
      "dict_keys(['one', 'two'])\n",
      "dict_values([1, 2, 3])\n"
     ]
    }
   ],
   "source": [
    "class DictClass():\n",
    "    \n",
    "    def __init__(self,a):\n",
    "        self.a = a\n",
    "        \n",
    "    def del_dict(self,key):\n",
    "        if key in self.a.keys():\n",
    "            self.a.pop(key)\n",
    "            return \"删除成功\"\n",
    "        else:\n",
    "            return \"未找到\"\n",
    "        \n",
    "    def get_dict(self,key):\n",
    "        if key in self.a.keys():\n",
    "            print(\"找到了\")\n",
    "            return self.a[key]\n",
    "        else:\n",
    "            return \"not found\"\n",
    "        \n",
    "    def list_get(self):\n",
    "        return self.a.keys()\n",
    "    \n",
    "    def update_dict(self,dict1):\n",
    "        self.a = dict(self.a, **dict1)\n",
    "        return self.a.values()\n",
    "        \n",
    "        \n",
    "a = {\"one\":1,\"two\":2}\n",
    "A = DictClass(a)\n",
    "print(A.del_dict(\"on\"))\n",
    "print(a)\n",
    "\n",
    "print(A.get_dict(\"one\"))\n",
    "print(a)\n",
    "\n",
    "print(A.list_get())\n",
    "\n",
    "print(A.update_dict({\"three\":3}))\n",
    "\n",
    "\n",
    "\n",
    "        \n",
    "        "
   ]
  },
  {
   "cell_type": "code",
   "execution_count": null,
   "metadata": {},
   "outputs": [],
   "source": []
  },
  {
   "cell_type": "code",
   "execution_count": null,
   "metadata": {},
   "outputs": [],
   "source": []
  },
  {
   "cell_type": "code",
   "execution_count": null,
   "metadata": {},
   "outputs": [],
   "source": []
  }
 ],
 "metadata": {
  "kernelspec": {
   "display_name": "Python 3",
   "language": "python",
   "name": "python3"
  },
  "language_info": {
   "codemirror_mode": {
    "name": "ipython",
    "version": 3
   },
   "file_extension": ".py",
   "mimetype": "text/x-python",
   "name": "python",
   "nbconvert_exporter": "python",
   "pygments_lexer": "ipython3",
   "version": "3.7.0"
  }
 },
 "nbformat": 4,
 "nbformat_minor": 2
}
