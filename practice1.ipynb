{
 "cells": [
  {
   "cell_type": "markdown",
   "metadata": {},
   "source": [
    "# for循环图形打印"
   ]
  },
  {
   "cell_type": "code",
   "execution_count": 1,
   "metadata": {},
   "outputs": [
    {
     "name": "stdout",
     "output_type": "stream",
     "text": [
      "Hello World\n"
     ]
    }
   ],
   "source": [
    "print(\"Hello World\")"
   ]
  },
  {
   "cell_type": "code",
   "execution_count": 17,
   "metadata": {},
   "outputs": [
    {
     "name": "stdout",
     "output_type": "stream",
     "text": [
      "* * * * * \n",
      "*       * \n",
      "*       * \n",
      "* * * * * \n"
     ]
    }
   ],
   "source": [
    "for i in range(4):\n",
    "    if i==0 or i==3:\n",
    "        print(\"* \" *  5)\n",
    "    else:\n",
    "        print(\"* \",end=\"      \")\n",
    "        print(\"* \")\n"
   ]
  },
  {
   "cell_type": "code",
   "execution_count": 28,
   "metadata": {},
   "outputs": [
    {
     "name": "stdout",
     "output_type": "stream",
     "text": [
      "* \n",
      "* * \n",
      "* * * \n",
      "* * * * \n",
      "* * * * * \n"
     ]
    }
   ],
   "source": [
    "for i in range(5):\n",
    "    for j in range(i+1):\n",
    "        print(\"* \",end=\"\")\n",
    "    print()"
   ]
  },
  {
   "cell_type": "code",
   "execution_count": 32,
   "metadata": {},
   "outputs": [
    {
     "name": "stdout",
     "output_type": "stream",
     "text": [
      "* \n",
      "* * \n",
      "*   * \n",
      "*     * \n",
      "* * * * * \n"
     ]
    }
   ],
   "source": [
    "for i in range(5):\n",
    "    for j in range(i+1):\n",
    "        if i==4:\n",
    "            print(\"* \",end=\"\")\n",
    "        else:\n",
    "            if j==0 or j==i:\n",
    "                print(\"* \",end=\"\")\n",
    "            else:\n",
    "                print(\"  \",end=\"\")\n",
    "    print()"
   ]
  },
  {
   "cell_type": "code",
   "execution_count": 46,
   "metadata": {},
   "outputs": [
    {
     "name": "stdout",
     "output_type": "stream",
     "text": [
      "* * * * * \n",
      "*     * \n",
      "*   * \n",
      "* * \n",
      "* \n"
     ]
    }
   ],
   "source": [
    "for i in range(5):\n",
    "    for j in range(5-i):\n",
    "        if i==0:\n",
    "            print(\"* \",end=\"\")\n",
    "            continue\n",
    "        if j==0 or j==5-i-1:\n",
    "            print(\"* \",end=\"\")\n",
    "        else:\n",
    "            print(\"  \",end=\"\")\n",
    "    print()"
   ]
  },
  {
   "cell_type": "code",
   "execution_count": 61,
   "metadata": {},
   "outputs": [
    {
     "name": "stdout",
     "output_type": "stream",
     "text": [
      "     * \n",
      "    * * \n",
      "   * * * \n",
      "  * * * * \n",
      " * * * * * \n"
     ]
    }
   ],
   "source": [
    "for i in range(5):\n",
    "    for k in range(5-i):\n",
    "        print(\" \",end=\"\")\n",
    "    for j in range(i+1):\n",
    "        print(\"* \",end=\"\")\n",
    "    print()"
   ]
  },
  {
   "cell_type": "code",
   "execution_count": 71,
   "metadata": {},
   "outputs": [
    {
     "name": "stdout",
     "output_type": "stream",
     "text": [
      "     * \n",
      "    * * \n",
      "   *   * \n",
      "  *     * \n",
      " * * * * * \n"
     ]
    }
   ],
   "source": [
    "for i in range(5):\n",
    "    for k in range(5-i):\n",
    "        print(\" \",end=\"\")\n",
    "    for j in range(i+1):\n",
    "        if j==0 or j==i or i==4:\n",
    "            print(\"* \",end=\"\")\n",
    "        else:\n",
    "            print(\"  \",end=\"\")\n",
    "    print()"
   ]
  },
  {
   "cell_type": "markdown",
   "metadata": {},
   "source": [
    "# 内置数据类型"
   ]
  },
  {
   "cell_type": "code",
   "execution_count": 1,
   "metadata": {},
   "outputs": [
    {
     "name": "stdout",
     "output_type": "stream",
     "text": [
      "I lovewangxiaojing\n"
     ]
    }
   ],
   "source": [
    "s1 = \"I love\"\n",
    "s2 = \"wangxiaojing\"\n",
    "s = s1 + s2\n",
    "print(s)"
   ]
  },
  {
   "cell_type": "code",
   "execution_count": 6,
   "metadata": {},
   "outputs": [
    {
     "name": "stdout",
     "output_type": "stream",
     "text": [
      "1 2 3 4 5 6 7 8 9 \n",
      "2345\n",
      "1730323117552\n",
      "1730346318680\n"
     ]
    }
   ],
   "source": [
    "s = \"123456789\"\n",
    "for i in s:\n",
    "    print(i,end=\" \")\n",
    "print()\n",
    "s1 = s[1:5]\n",
    "print(s1)\n",
    "#分片操作生成了一个新的地址\n",
    "print(id(s))\n",
    "print(id(s1))"
   ]
  },
  {
   "cell_type": "code",
   "execution_count": 9,
   "metadata": {},
   "outputs": [
    {
     "name": "stdout",
     "output_type": "stream",
     "text": [
      "I love wangxiaojing\n",
      "I Love Wangxiaojing\n",
      "I LOVE WANGXIAOJING\n"
     ]
    }
   ],
   "source": [
    "s = \"i love wangxiaojing\"\n",
    "# 用字符串的函数进行操作\n",
    "\n",
    "#将字符串的第一个字母改变成大写\n",
    "s1 = s.capitalize()\n",
    "print(s1)\n",
    "\n",
    "# 将字符串每个单词的首字母变成大写\n",
    "s2 = s.title()\n",
    "print(s2)\n",
    "\n",
    "# 讲字符串的每个字母变成大写\n",
    "s3 = s.upper()\n",
    "print(s3)\n",
    "\n"
   ]
  },
  {
   "cell_type": "code",
   "execution_count": 11,
   "metadata": {},
   "outputs": [
    {
     "name": "stdout",
     "output_type": "stream",
     "text": [
      "i love wangxiaojing\n"
     ]
    }
   ],
   "source": [
    "s = \"I LOVE WANGXIAOJING\"\n",
    "#把字符串的字母改为小写\n",
    "s1 = s.lower()\n",
    "print(s1)"
   ]
  },
  {
   "cell_type": "markdown",
   "metadata": {},
   "source": [
    "# list"
   ]
  },
  {
   "cell_type": "code",
   "execution_count": 13,
   "metadata": {},
   "outputs": [
    {
     "name": "stdout",
     "output_type": "stream",
     "text": [
      "[1, 2, 3, 4, 5, 6]\n",
      "[2, 3, 4, 5, 6]\n",
      "[2, 4, 5, 6]\n"
     ]
    }
   ],
   "source": [
    "# 在末尾追加元素\n",
    "list1 = [1,2,3,4,5]\n",
    "list1.append(6)\n",
    "print(list1)\n",
    "del list1[0]\n",
    "print(list1)\n",
    "list1.remove(3)\n",
    "print(list1)"
   ]
  },
  {
   "cell_type": "code",
   "execution_count": 13,
   "metadata": {},
   "outputs": [
    {
     "name": "stdout",
     "output_type": "stream",
     "text": [
      "[1, 2, 3, 4, 5]\n",
      "1730347241416\n",
      "1730347348104\n"
     ]
    }
   ],
   "source": [
    "l1 = [1,2,3,4,5]\n",
    "l2 = l1.copy()\n",
    "print(l2)\n",
    "print(id(l1))\n",
    "print(id(l2))"
   ]
  },
  {
   "cell_type": "code",
   "execution_count": 1,
   "metadata": {},
   "outputs": [
    {
     "name": "stdout",
     "output_type": "stream",
     "text": [
      "{}\n",
      "{}\n",
      "{'one': 1, 'two': 2, 'three': 3}\n",
      "{'one': 1, 'two': 2, 'three': 3}\n",
      "{'one': 1, 'two': 2, 'three': 3}\n",
      "{'one': 1, 'two': 2, 'three': 3}\n"
     ]
    }
   ],
   "source": [
    "\n",
    "# 字典的创建\n",
    "# 创建空字典1\n",
    "d = {}\n",
    "print(d)\n",
    "\n",
    "# 创建空字典2\n",
    "d = dict()\n",
    "print(d)\n",
    "\n",
    "# 创建有值的字典， 每一组数据用冒号隔开， 每一对键值对用逗号隔开\n",
    "d = {\"one\":1, \"two\":2, \"three\":3}\n",
    "print(d)\n",
    "\n",
    "# 用dict创建有内容字典1\n",
    "d = dict({\"one\":1, \"two\":2, \"three\":3})\n",
    "print(d)\n",
    "\n",
    "# 用dict创建有内容字典2\n",
    "# 利用关键字参数\n",
    "d = dict(one=1, two=2, three=3)\n",
    "print(d)\n",
    "\n",
    "\n",
    "# \n",
    "d = dict( [(\"one\",1), (\"two\",2), (\"three\",3)])\n",
    "print(d)"
   ]
  },
  {
   "cell_type": "code",
   "execution_count": 1,
   "metadata": {},
   "outputs": [
    {
     "name": "stdout",
     "output_type": "stream",
     "text": [
      "one 1\n",
      "two 2\n",
      "three 3\n",
      "one 1\n",
      "two 2\n",
      "three 3\n",
      "1\n",
      "2\n",
      "3\n",
      "one -- 1\n",
      "two -- 2\n",
      "three -- 3\n"
     ]
    }
   ],
   "source": [
    "# 便利在python2 和 3 中区别比较大，代码不通用\n",
    "# 按key来使用for循环\n",
    "d = {\"one\":1, \"two\":2, \"three\":3}\n",
    "# 使用for循环，直接按key值访问\n",
    "for k in d:\n",
    "    print(k,  d[k])\n",
    "    \n",
    "# 上述代码可以改写成如下\n",
    "for k in d.keys():\n",
    "    print(k,  d[k])\n",
    "    \n",
    "# 只访问字典的值\n",
    "for v in d.values():\n",
    "    print(v)\n",
    "    \n",
    "# 注意以下特殊用法\n",
    "for k,v in d.items():\n",
    "    print(k,'--',v)"
   ]
  },
  {
   "cell_type": "code",
   "execution_count": 9,
   "metadata": {},
   "outputs": [
    {
     "name": "stdout",
     "output_type": "stream",
     "text": [
      "2\n",
      "3\n",
      "4\n",
      "{'one': 2, 'two': 3, 'three': 4}\n"
     ]
    }
   ],
   "source": [
    "d = {\"one\":1,\"two\":2,\"three\":3}\n",
    "# print(d)\n",
    "for i in d:\n",
    "    d[i] += 1\n",
    "    print(d[i])\n",
    "print(d)"
   ]
  },
  {
   "cell_type": "code",
   "execution_count": 16,
   "metadata": {},
   "outputs": [
    {
     "name": "stdout",
     "output_type": "stream",
     "text": [
      "[2, 3, 4, 5, 6]\n"
     ]
    }
   ],
   "source": [
    "l = [1,2,3,4,5]\n",
    "l1 = []\n",
    "for i in l:\n",
    "    i += 1\n",
    "    l1.append(i)\n",
    "print(l1)"
   ]
  },
  {
   "cell_type": "code",
   "execution_count": null,
   "metadata": {},
   "outputs": [],
   "source": []
  },
  {
   "cell_type": "code",
   "execution_count": 31,
   "metadata": {},
   "outputs": [
    {
     "name": "stdout",
     "output_type": "stream",
     "text": [
      "0.4324654221181713\n",
      "48\n"
     ]
    }
   ],
   "source": [
    "import random\n",
    "print(random.random())\n",
    "print(random.randint(1,100))\n"
   ]
  },
  {
   "cell_type": "code",
   "execution_count": 33,
   "metadata": {},
   "outputs": [
    {
     "name": "stdout",
     "output_type": "stream",
     "text": [
      "请输入一个数字：23\n",
      "系统生成的随机数为：98\n",
      "你输入的数字比系统生成的小\n"
     ]
    }
   ],
   "source": [
    "num = input(\"请输入一个数字：\")\n",
    "rand_num = random.randint(1,100)\n",
    "if num.isdigit and 1 < int(num) < 100:\n",
    "    num = int(num)\n",
    "print(\"系统生成的随机数为：{0}\".format(rand_num))\n",
    "if num > rand_num:\n",
    "    print(\"你输入的数字比系统生成的大\")\n",
    "else:\n",
    "    print(\"你输入的数字比系统生成的小\")\n"
   ]
  },
  {
   "cell_type": "code",
   "execution_count": 9,
   "metadata": {},
   "outputs": [
    {
     "name": "stdout",
     "output_type": "stream",
     "text": [
      "1\n",
      "5\n",
      "[2, 3, 4, 5, 6]\n",
      "[6, 5, 4, 3, 2]\n"
     ]
    }
   ],
   "source": [
    "l = [1,2,3,4,5]\n",
    "print(l[0])\n",
    "print(len(l))\n",
    "for i in range(len(l)):\n",
    "    l[i]+=1\n",
    "print(l)\n",
    "l.reverse()\n",
    "print(l)"
   ]
  },
  {
   "cell_type": "code",
   "execution_count": 6,
   "metadata": {},
   "outputs": [
    {
     "name": "stdout",
     "output_type": "stream",
     "text": [
      "请输入年份：2000\n",
      "2000是闰年\n"
     ]
    }
   ],
   "source": [
    "# 判断给定的年份是否是闰年\n",
    "year = input(\"请输入年份：\")\n",
    "if year.isdigit():\n",
    "    year = int(year)\n",
    "    \n",
    "    if year % 4 == 0:\n",
    "        print(str(year)+\"是闰年\")\n",
    "    else:\n",
    "        print(str(year)+\"不是闰年\")\n",
    "        \n",
    "else:\n",
    "    print(\"请正确输入年份\")"
   ]
  },
  {
   "cell_type": "code",
   "execution_count": 1,
   "metadata": {},
   "outputs": [
    {
     "name": "stdout",
     "output_type": "stream",
     "text": [
      "81\n",
      "请输入一个数字：51\n",
      "小了\n",
      "请输入一个数字：54\n",
      "小了\n",
      "请输入一个数字：81\n",
      "你猜对了\n"
     ]
    }
   ],
   "source": [
    "import random\n",
    "\n",
    "secert = random.randint(1,100)\n",
    "print(secert)\n",
    "count = 0\n",
    "for i in range(3):\n",
    "    count += 1\n",
    "    num = input(\"请输入一个数字：\")\n",
    "    if num.isdigit() and 1< int(num) <100:\n",
    "        num = int(num)\n",
    "\n",
    "        if num > secert:\n",
    "            print(\"大了\")\n",
    "        if num < secert:\n",
    "            print(\"小了\")\n",
    "        if num == secert:\n",
    "            print(\"你猜对了\")\n",
    "            break\n",
    "        if count == 3:\n",
    "            print(\"你的机会用完了！\")\n",
    "            \n",
    "    else:\n",
    "        print(\"请正确输入数字：\")"
   ]
  },
  {
   "cell_type": "code",
   "execution_count": null,
   "metadata": {},
   "outputs": [],
   "source": []
  },
  {
   "cell_type": "code",
   "execution_count": null,
   "metadata": {},
   "outputs": [],
   "source": []
  },
  {
   "cell_type": "code",
   "execution_count": null,
   "metadata": {},
   "outputs": [],
   "source": []
  },
  {
   "cell_type": "code",
   "execution_count": null,
   "metadata": {},
   "outputs": [],
   "source": []
  },
  {
   "cell_type": "code",
   "execution_count": null,
   "metadata": {},
   "outputs": [],
   "source": []
  },
  {
   "cell_type": "code",
   "execution_count": null,
   "metadata": {},
   "outputs": [],
   "source": []
  },
  {
   "cell_type": "code",
   "execution_count": null,
   "metadata": {},
   "outputs": [],
   "source": []
  },
  {
   "cell_type": "code",
   "execution_count": null,
   "metadata": {},
   "outputs": [],
   "source": []
  }
 ],
 "metadata": {
  "kernelspec": {
   "display_name": "Python 3",
   "language": "python",
   "name": "python3"
  },
  "language_info": {
   "codemirror_mode": {
    "name": "ipython",
    "version": 3
   },
   "file_extension": ".py",
   "mimetype": "text/x-python",
   "name": "python",
   "nbconvert_exporter": "python",
   "pygments_lexer": "ipython3",
   "version": "3.7.0"
  }
 },
 "nbformat": 4,
 "nbformat_minor": 2
}
