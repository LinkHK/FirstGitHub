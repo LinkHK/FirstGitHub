{
 "cells": [
  {
   "cell_type": "markdown",
   "metadata": {},
   "source": [
    "#### 定义一个门票系统\n",
    "- 门票的原价是100元\n",
    "- 当周末的时候门票涨价20%\n",
    "- 小孩子半票\n",
    "- 计算2个成人和1个小孩的平日票价"
   ]
  },
  {
   "cell_type": "code",
   "execution_count": 2,
   "metadata": {},
   "outputs": [
    {
     "name": "stdout",
     "output_type": "stream",
     "text": [
      "总的票价为300.0\n",
      "总的票价为300.0\n"
     ]
    }
   ],
   "source": [
    "class Tickets():\n",
    "    def __init__(self,weekend = False,child = False):\n",
    "        if weekend:\n",
    "            self.price = 120\n",
    "        else:\n",
    "            self.price = 100\n",
    "            \n",
    "        if child:\n",
    "            self.discount = 0.5\n",
    "        else:\n",
    "            self.discount = 1\n",
    "            \n",
    "        \n",
    "    def all_price(self,num):\n",
    "        return self.price * self.discount * num\n",
    "    \n",
    "a = Tickets(weekend = True,child = False)\n",
    "c = Tickets(weekend = True,child = True)\n",
    "print(\"总的票价为{}\".format(a.all_price(2) + c.all_price(1)))"
   ]
  },
  {
   "cell_type": "markdown",
   "metadata": {},
   "source": [
    "#### 游戏编程：按一下要求定义一个乌龟类和鱼类并尝试编程\n",
    "- 假设游戏场景为范围(x,y)为 0<=x<=10,0<=y<=10\n",
    "- 游戏生成1只乌龟和10条鱼\n",
    "- 他们的移动方向均随机\n",
    "- 乌龟的最大移动能力是2（乌龟可以随机选择移动是1还是2），鱼的最大移动能力是1\n",
    "- 当移动到场景边缘，自动向反方向移动\n",
    "- 乌龟初始化体力为100（上限）\n",
    "- 乌龟每移动一次，体力消耗1\n",
    "- 当乌龟和鱼重叠，乌龟吃掉鱼，乌龟体力增加20\n",
    "- 鱼不计算体力\n",
    "- 当乌龟体力值为0或者鱼的数量为0时，游戏结束"
   ]
  },
  {
   "cell_type": "markdown",
   "metadata": {},
   "source": [
    "# 异常处理\n",
    "- 不能保证程序永远正常运行，但是，必须保证程序在最坏得情况下得到得的问题被妥善处理"
   ]
  },
  {
   "cell_type": "code",
   "execution_count": 2,
   "metadata": {},
   "outputs": [
    {
     "name": "stdout",
     "output_type": "stream",
     "text": [
      "请输入你的数字：2\n",
      "计算结果是：50.0\n"
     ]
    }
   ],
   "source": [
    "#简单异常案例\n",
    "try:\n",
    "    num = int(input(\"请输入你的数字：\"))\n",
    "    rst = 100/num\n",
    "    print(\"计算结果是：{0}\".format(rst))\n",
    "# 捕获异常，把异常实例化\n",
    "except ZeroDivisionError as e:\n",
    "    print(\"你的输入是不正确的\")\n",
    "    print(e)\n",
    "    exit()\n",
    "    \n",
    "#所有的异常都是继承Exception\n",
    "#如果写下这句话，任何异常都会被拦截\n",
    "except Exception as e:\n",
    "    print(e)\n",
    "    "
   ]
  },
  {
   "cell_type": "markdown",
   "metadata": {},
   "source": [
    "# 用户手动引发异常\n",
    "- 某些情况，用户希望自己来引发一个异常的时候，可以使用\n",
    "- raise 关键字来引发异常"
   ]
  },
  {
   "cell_type": "code",
   "execution_count": 3,
   "metadata": {},
   "outputs": [
    {
     "name": "stdout",
     "output_type": "stream",
     "text": [
      "我爱王晓菁\n",
      "3.1415962\n",
      "ValueError\n",
      "我一定会执行\n"
     ]
    }
   ],
   "source": [
    "# raise案例\n",
    "# 自定义异常类，一定是已有的类的子类\n",
    "try:\n",
    "    print(\"我爱王晓菁\")\n",
    "    print(3.1415962)\n",
    "    #手动引发异常\n",
    "    raise ValueError\n",
    "    print(\"还没完啊\")\n",
    "except NameError as e:\n",
    "    print(\"NameError\")\n",
    "except ValueError as e:\n",
    "    print(\"ValueError\")\n",
    "except Exception as e:\n",
    "    print(e)\n",
    "finally:\n",
    "    print(\"我一定会执行\")"
   ]
  },
  {
   "cell_type": "markdown",
   "metadata": {},
   "source": [
    "#### 定义一个点（point）和直线（Line）类，使用getLen方法获取两点构成直线的长度"
   ]
  },
  {
   "cell_type": "code",
   "execution_count": 15,
   "metadata": {},
   "outputs": [
    {
     "data": {
      "text/plain": [
       "5.0"
      ]
     },
     "execution_count": 15,
     "metadata": {},
     "output_type": "execute_result"
    }
   ],
   "source": [
    "import math\n",
    "\n",
    "class Point():\n",
    "    def __init__(self,x,y):\n",
    "        self.x = x\n",
    "        self.y = y\n",
    "        \n",
    "    def get_x(self):\n",
    "        return self.x\n",
    "    \n",
    "    def get_y(self):\n",
    "        return self.y\n",
    "    \n",
    "class Line():\n",
    "    def __init__(self,p1,p2):\n",
    "        self.x = p2.get_x() - p1.get_x()\n",
    "        self.y = p2.get_y() - p1.get_y()\n",
    "        \n",
    "    def getlen(self):\n",
    "        self.lenth = math.sqrt(self.x*self.x + self.y*self.y)\n",
    "        return self.lenth\n",
    "    \n",
    "a = Point(1,2)\n",
    "b = Point(4,6)\n",
    "c = Line(a,b)\n",
    "c.getlen()"
   ]
  },
  {
   "cell_type": "markdown",
   "metadata": {},
   "source": [
    "### 编写一个计算减法的方法，当第一个数小于第二个数时，抛出“被减数不能小于减数\"的异常"
   ]
  },
  {
   "cell_type": "code",
   "execution_count": 16,
   "metadata": {},
   "outputs": [
    {
     "name": "stdout",
     "output_type": "stream",
     "text": [
      "被减数不能小于减数\n"
     ]
    }
   ],
   "source": [
    "def jianfa(a,b):\n",
    "    if a < b:\n",
    "        raise BaseException(\"被减数不能小于减数\")\n",
    "    else:\n",
    "        return a-b\n",
    "    \n",
    "try:\n",
    "    jianfa(3,4)\n",
    "except BaseException as e:\n",
    "    print(e)\n",
    "    "
   ]
  },
  {
   "cell_type": "markdown",
   "metadata": {},
   "source": [
    "### 定义一个函数func(filename) filename:文件的路径， 函数功能：打开文件，并且返回文件内容，最后关闭，用异常来处理可能发生的错误"
   ]
  },
  {
   "cell_type": "code",
   "execution_count": 19,
   "metadata": {},
   "outputs": [
    {
     "name": "stdout",
     "output_type": "stream",
     "text": [
      "[Errno 2] No such file or directory: 'Testw.txt'\n"
     ]
    }
   ],
   "source": [
    "import os\n",
    "\n",
    "def func(filename):\n",
    "    try:\n",
    "        file = open(filename)\n",
    "    except Exception as e:\n",
    "        print(e)\n",
    "    else:\n",
    "        print(file.read())\n",
    "        file.close()\n",
    "        \n",
    "func(\"Testw.txt\")\n",
    "        "
   ]
  },
  {
   "cell_type": "markdown",
   "metadata": {},
   "source": [
    "### 自己定义一个异常类，继承Exception类, 捕获下面的过程：判断输入的字符串长度是否小于5"
   ]
  },
  {
   "cell_type": "code",
   "execution_count": 30,
   "metadata": {},
   "outputs": [
    {
     "name": "stdout",
     "output_type": "stream",
     "text": [
      "请输入长度大于5的字符串\n"
     ]
    }
   ],
   "source": [
    "class MyError(Exception):\n",
    "    def __init__(self,stri):\n",
    "        self.stri = stri\n",
    "        \n",
    "    def panduan(self):\n",
    "        if len(self.stri) > 5:\n",
    "            print(self.stri)\n",
    "        else:\n",
    "            print(\"请输入长度大于5的字符串\")\n",
    "            \n",
    "try:\n",
    "    s = MyError(\"sss\")\n",
    "    s.panduan()\n",
    "except MyError as e:\n",
    "    print(\"出错了\")\n",
    "    \n"
   ]
  },
  {
   "cell_type": "markdown",
   "metadata": {},
   "source": [
    "#### 写一个6位随机验证码程序（使用random模块),要求验证码中至少包含一个数字、一个小写字母、一个大写字母"
   ]
  },
  {
   "cell_type": "code",
   "execution_count": 7,
   "metadata": {},
   "outputs": [
    {
     "name": "stdout",
     "output_type": "stream",
     "text": [
      "eW0F1E\n"
     ]
    }
   ],
   "source": [
    "import random\n",
    "import string\n",
    "\n",
    "code = []\n",
    "code.append(random.choice(string.ascii_lowercase))\n",
    "code.append(random.choice(string.ascii_uppercase))\n",
    "code.append(random.choice(string.digits))\n",
    "\n",
    "while len(code) < 6:\n",
    "    code.append(random.choice(string.ascii_lowercase+string.ascii_uppercase+string.digits))\n",
    "    \n",
    "scode = \"\".join(code)\n",
    "print(scode)"
   ]
  },
  {
   "cell_type": "code",
   "execution_count": 1,
   "metadata": {},
   "outputs": [
    {
     "name": "stdout",
     "output_type": "stream",
     "text": [
      "('Bob', 57)\n"
     ]
    }
   ],
   "source": [
    "ls =[(\"Bob\",57),(\"Jack\",67),(\"Mary\",77)]\n",
    "print(ls[0])"
   ]
  },
  {
   "cell_type": "markdown",
   "metadata": {},
   "source": [
    "利用map()函数，把用户输入的不规范的英文，变成首字母大写，其他小写的规范的名字：比如说[\"ADMAm\",\"LISA\",\"JACk\"]\n",
    "[\"Admam\",\"Lisa\",\"Jack\"]"
   ]
  },
  {
   "cell_type": "code",
   "execution_count": 4,
   "metadata": {},
   "outputs": [
    {
     "name": "stdout",
     "output_type": "stream",
     "text": [
      "['Admam', 'Lisa', 'Jack']\n"
     ]
    }
   ],
   "source": [
    "ls = [\"ADMAm\",\"LISA\",\"JACk\"]\n",
    "new_ls = map(lambda x: x.lower().capitalize(),ls)\n",
    "print(list(new_ls))"
   ]
  },
  {
   "cell_type": "markdown",
   "metadata": {},
   "source": [
    "回数：从左向右和从右向左读都是一样的数，例如 12321，999，请利用filter()函数  \n",
    "使用 lambda函数"
   ]
  },
  {
   "cell_type": "code",
   "execution_count": 6,
   "metadata": {},
   "outputs": [
    {
     "name": "stdout",
     "output_type": "stream",
     "text": [
      "[0, 1, 2, 3, 4, 5, 6, 7, 8, 9, 11, 22, 33, 44, 55, 66, 77, 88, 99, 101, 111, 121, 131, 141, 151, 161, 171, 181, 191, 202, 212, 222, 232, 242, 252, 262, 272, 282, 292, 303, 313, 323, 333, 343, 353, 363, 373, 383, 393, 404, 414, 424, 434, 444, 454, 464, 474, 484, 494, 505, 515, 525, 535, 545, 555, 565, 575, 585, 595, 606, 616, 626, 636, 646, 656, 666, 676, 686, 696, 707, 717, 727, 737, 747, 757, 767, 777, 787, 797, 808, 818, 828, 838, 848, 858, 868, 878, 888, 898, 909, 919, 929, 939, 949, 959, 969, 979, 989, 999]\n"
     ]
    }
   ],
   "source": [
    "ls = range(1000)\n",
    "new_ls = filter(lambda x: str(x)[0] == str(x)[len(str(x))-1],ls)\n",
    "print(list(new_ls))"
   ]
  },
  {
   "cell_type": "markdown",
   "metadata": {},
   "source": [
    "假设，我们用一组tuple来表示学生的名字和成绩，L = [(\"Bob\",75),(\"Adam\",92),(\"Bart\",66),(\"List\",88)] 用sorted()对上述列表按照名字排序  \n",
    "使用lambda函数"
   ]
  },
  {
   "cell_type": "code",
   "execution_count": 11,
   "metadata": {},
   "outputs": [
    {
     "name": "stdout",
     "output_type": "stream",
     "text": [
      "[('List', 88), ('Bob', 75), ('Bart', 66), ('Adam', 92)]\n"
     ]
    }
   ],
   "source": [
    "ls = [(\"Bob\",75),(\"Adam\",92),(\"Bart\",66),(\"List\",88)] \n",
    "new_ls = sorted(ls, key = lambda x:x[0], reverse = True) # reverse=True 时，会进行逆序排序\n",
    "print(list(new_ls))"
   ]
  },
  {
   "cell_type": "markdown",
   "metadata": {},
   "source": [
    "按分数排序"
   ]
  },
  {
   "cell_type": "code",
   "execution_count": 12,
   "metadata": {},
   "outputs": [
    {
     "name": "stdout",
     "output_type": "stream",
     "text": [
      "[('Adam', 92), ('List', 88), ('Bob', 75), ('Bart', 66)]\n"
     ]
    }
   ],
   "source": [
    "ls = [(\"Bob\",75),(\"Adam\",92),(\"Bart\",66),(\"List\",88)] \n",
    "new_ls = sorted(ls, key = lambda x:x[1], reverse = True) #默认顺序从小到大， reverse=True 时，会进行逆序排序\n",
    "print(list(new_ls))"
   ]
  },
  {
   "cell_type": "code",
   "execution_count": null,
   "metadata": {},
   "outputs": [],
   "source": []
  }
 ],
 "metadata": {
  "kernelspec": {
   "display_name": "Python 3",
   "language": "python",
   "name": "python3"
  },
  "language_info": {
   "codemirror_mode": {
    "name": "ipython",
    "version": 3
   },
   "file_extension": ".py",
   "mimetype": "text/x-python",
   "name": "python",
   "nbconvert_exporter": "python",
   "pygments_lexer": "ipython3",
   "version": "3.7.0"
  }
 },
 "nbformat": 4,
 "nbformat_minor": 2
}
